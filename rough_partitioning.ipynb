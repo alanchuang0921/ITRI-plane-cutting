{
 "cells": [
  {
   "cell_type": "code",
   "execution_count": 2,
   "metadata": {},
   "outputs": [
    {
     "data": {
      "application/vnd.jupyter.widget-view+json": {
       "model_id": "00a050edb001499e9bbb060e4aef88ce",
       "version_major": 2,
       "version_minor": 0
      },
      "text/plain": [
       "Renderer(camera=PerspectiveCamera(children=(DirectionalLight(color='white', intensity=0.6, position=(0.0, -21.…"
      ]
     },
     "metadata": {},
     "output_type": "display_data"
    },
    {
     "data": {
      "text/plain": [
       "<meshplot.Viewer.Viewer at 0x27dc063d4f0>"
      ]
     },
     "execution_count": 2,
     "metadata": {},
     "output_type": "execute_result"
    }
   ],
   "source": [
    "import igl\n",
    "import numpy as np\n",
    "import meshplot as mp\n",
    "\n",
    "# 指定STL或OBJ檔案的路徑\n",
    "stl_file_path = 'cylinder.obj'\n",
    "\n",
    "# 從指定檔案讀取三角網格數據\n",
    "v, f = igl.read_triangle_mesh(stl_file_path)\n",
    "v1, v2, k1, k2 = igl.principal_curvature(v, f)\n",
    "h=(k1+k2)/2#平均曲率\n",
    "k=k1*k2#高斯曲率\n",
    "n = igl.per_vertex_normals(v, f)\n",
    "mp.plot(v,f,n)\n"
   ]
  },
  {
   "cell_type": "markdown",
   "metadata": {},
   "source": [
    "##plane,convex cylinder.."
   ]
  },
  {
   "cell_type": "code",
   "execution_count": 3,
   "metadata": {},
   "outputs": [
    {
     "name": "stdout",
     "output_type": "stream",
     "text": [
      "Invalid color array given! Supported are numpy arrays. <class 'str'>\n"
     ]
    },
    {
     "data": {
      "application/vnd.jupyter.widget-view+json": {
       "model_id": "feb3e1060652428e930b54a678b4b19d",
       "version_major": 2,
       "version_minor": 0
      },
      "text/plain": [
       "Renderer(camera=PerspectiveCamera(children=(DirectionalLight(color='white', intensity=0.6, position=(0.0, -21.…"
      ]
     },
     "metadata": {},
     "output_type": "display_data"
    },
    {
     "data": {
      "text/plain": [
       "True"
      ]
     },
     "execution_count": 3,
     "metadata": {},
     "output_type": "execute_result"
    }
   ],
   "source": [
    "selected_vertices = np.where((h>=0)&(k>=0))[0]\n",
    "# print(selected_vertices)\n",
    "# 找出選擇的頂點接觸到的面\n",
    "adjacent_faces = []\n",
    "for vertex_index in selected_vertices:\n",
    "    # 找到和這個頂點相鄰的面的索引\n",
    "    adjacent_faces_vertex = np.where(f == vertex_index)[0]\n",
    "    adjacent_faces.extend(adjacent_faces_vertex)\n",
    "\n",
    "# 去除重複的面索引\n",
    "adjacent_faces = np.unique(adjacent_faces)\n",
    "\n",
    "# 用meshplot庫繪製網格和選擇點的接觸面\n",
    "# mp.plot(v, f, shading={\"face\": True}, c=np.ones_like(f), lighting=True)\n",
    "mp.plot(v, f[adjacent_faces], shading={\"face\": True}, c=\"red\", lighting=True)\n",
    "# 選取相鄰的面\n",
    "selected_faces = f[adjacent_faces]\n",
    "# 將選取的網格保存為 STL 檔案\n",
    "igl.write_triangle_mesh(\"plane_convexCylinder.stl\", v, selected_faces)"
   ]
  },
  {
   "cell_type": "markdown",
   "metadata": {},
   "source": [
    "##concave cylinder"
   ]
  },
  {
   "cell_type": "code",
   "execution_count": 7,
   "metadata": {},
   "outputs": [
    {
     "name": "stdout",
     "output_type": "stream",
     "text": [
      "Invalid color array given! Supported are numpy arrays. <class 'str'>\n"
     ]
    },
    {
     "data": {
      "application/vnd.jupyter.widget-view+json": {
       "model_id": "f6b6bdc3ed1a4d798f000a8c0a5da3b3",
       "version_major": 2,
       "version_minor": 0
      },
      "text/plain": [
       "Renderer(camera=PerspectiveCamera(children=(DirectionalLight(color='white', intensity=0.6, position=(0.0, -21.…"
      ]
     },
     "metadata": {},
     "output_type": "display_data"
    },
    {
     "data": {
      "text/plain": [
       "True"
      ]
     },
     "execution_count": 7,
     "metadata": {},
     "output_type": "execute_result"
    }
   ],
   "source": [
    "selected_vertices = np.where((h<0)&(np.abs(k)<0.1))[0]\n",
    "# print(selected_vertices)\n",
    "# 找出選擇的頂點接觸到的面\n",
    "adjacent_faces = []\n",
    "for vertex_index in selected_vertices:\n",
    "    # 找到和這個頂點相鄰的面的索引\n",
    "    adjacent_faces_vertex = np.where(f == vertex_index)[0]\n",
    "    adjacent_faces.extend(adjacent_faces_vertex)\n",
    "\n",
    "# 去除重複的面索引\n",
    "adjacent_faces = np.unique(adjacent_faces)\n",
    "\n",
    "# 用meshplot庫繪製網格和選擇點的接觸面\n",
    "# mp.plot(v, f, shading={\"face\": True}, c=np.ones_like(f), lighting=True)\n",
    "mp.plot(v, f[adjacent_faces], shading={\"face\": True}, c=\"red\", lighting=True)\n",
    "# 選取相鄰的面\n",
    "selected_faces = f[adjacent_faces]\n",
    "# 將選取的網格保存為 STL 檔案\n",
    "igl.write_triangle_mesh(\"concaveCylinder.stl\", v, selected_faces)"
   ]
  },
  {
   "cell_type": "markdown",
   "metadata": {},
   "source": [
    "##concave ellipsoid"
   ]
  },
  {
   "cell_type": "code",
   "execution_count": 5,
   "metadata": {},
   "outputs": [
    {
     "ename": "IndexError",
     "evalue": "arrays used as indices must be of integer (or boolean) type",
     "output_type": "error",
     "traceback": [
      "\u001b[1;31m---------------------------------------------------------------------------\u001b[0m",
      "\u001b[1;31mIndexError\u001b[0m                                Traceback (most recent call last)",
      "Cell \u001b[1;32mIn[5], line 15\u001b[0m\n\u001b[0;32m     11\u001b[0m adjacent_faces \u001b[38;5;241m=\u001b[39m np\u001b[38;5;241m.\u001b[39munique(adjacent_faces)\n\u001b[0;32m     13\u001b[0m \u001b[38;5;66;03m# 用meshplot庫繪製網格和選擇點的接觸面\u001b[39;00m\n\u001b[0;32m     14\u001b[0m \u001b[38;5;66;03m# mp.plot(v, f, shading={\"face\": True}, c=np.ones_like(f), lighting=True)\u001b[39;00m\n\u001b[1;32m---> 15\u001b[0m mp\u001b[38;5;241m.\u001b[39mplot(v, \u001b[43mf\u001b[49m\u001b[43m[\u001b[49m\u001b[43madjacent_faces\u001b[49m\u001b[43m]\u001b[49m, shading\u001b[38;5;241m=\u001b[39m{\u001b[38;5;124m\"\u001b[39m\u001b[38;5;124mface\u001b[39m\u001b[38;5;124m\"\u001b[39m: \u001b[38;5;28;01mTrue\u001b[39;00m}, c\u001b[38;5;241m=\u001b[39m\u001b[38;5;124m\"\u001b[39m\u001b[38;5;124mred\u001b[39m\u001b[38;5;124m\"\u001b[39m, lighting\u001b[38;5;241m=\u001b[39m\u001b[38;5;28;01mTrue\u001b[39;00m)\n\u001b[0;32m     16\u001b[0m \u001b[38;5;66;03m# 選取相鄰的面\u001b[39;00m\n\u001b[0;32m     17\u001b[0m selected_faces \u001b[38;5;241m=\u001b[39m f[adjacent_faces]\n",
      "\u001b[1;31mIndexError\u001b[0m: arrays used as indices must be of integer (or boolean) type"
     ]
    }
   ],
   "source": [
    "selected_vertices = np.where((h<0)&(k>0.1))[0]\n",
    "# print(selected_vertices)\n",
    "# 找出選擇的頂點接觸到的面\n",
    "adjacent_faces = []\n",
    "for vertex_index in selected_vertices:\n",
    "    # 找到和這個頂點相鄰的面的索引\n",
    "    adjacent_faces_vertex = np.where(f == vertex_index)[0]\n",
    "    adjacent_faces.extend(adjacent_faces_vertex)\n",
    "\n",
    "# 去除重複的面索引\n",
    "adjacent_faces = np.unique(adjacent_faces)\n",
    "\n",
    "# 用meshplot庫繪製網格和選擇點的接觸面\n",
    "# mp.plot(v, f, shading={\"face\": True}, c=np.ones_like(f), lighting=True)\n",
    "mp.plot(v, f[adjacent_faces], shading={\"face\": True}, c=\"red\", lighting=True)\n",
    "# 選取相鄰的面\n",
    "selected_faces = f[adjacent_faces]\n",
    "# 將選取的網格保存為 STL 檔案\n",
    "igl.write_triangle_mesh(\"concaveEllipsiod.stl\", v, selected_faces)\n"
   ]
  },
  {
   "cell_type": "markdown",
   "metadata": {},
   "source": [
    "##saddle"
   ]
  },
  {
   "cell_type": "code",
   "execution_count": 6,
   "metadata": {},
   "outputs": [
    {
     "ename": "IndexError",
     "evalue": "arrays used as indices must be of integer (or boolean) type",
     "output_type": "error",
     "traceback": [
      "\u001b[1;31m---------------------------------------------------------------------------\u001b[0m",
      "\u001b[1;31mIndexError\u001b[0m                                Traceback (most recent call last)",
      "Cell \u001b[1;32mIn[6], line 15\u001b[0m\n\u001b[0;32m     11\u001b[0m adjacent_faces \u001b[38;5;241m=\u001b[39m np\u001b[38;5;241m.\u001b[39munique(adjacent_faces)\n\u001b[0;32m     13\u001b[0m \u001b[38;5;66;03m# 用meshplot庫繪製網格和選擇點的接觸面\u001b[39;00m\n\u001b[0;32m     14\u001b[0m \u001b[38;5;66;03m# mp.plot(v, f, shading={\"face\": True}, c=np.ones_like(f), lighting=True)\u001b[39;00m\n\u001b[1;32m---> 15\u001b[0m mp\u001b[38;5;241m.\u001b[39mplot(v, \u001b[43mf\u001b[49m\u001b[43m[\u001b[49m\u001b[43madjacent_faces\u001b[49m\u001b[43m]\u001b[49m, shading\u001b[38;5;241m=\u001b[39m{\u001b[38;5;124m\"\u001b[39m\u001b[38;5;124mface\u001b[39m\u001b[38;5;124m\"\u001b[39m: \u001b[38;5;28;01mTrue\u001b[39;00m}, c\u001b[38;5;241m=\u001b[39m\u001b[38;5;124m\"\u001b[39m\u001b[38;5;124mred\u001b[39m\u001b[38;5;124m\"\u001b[39m, lighting\u001b[38;5;241m=\u001b[39m\u001b[38;5;28;01mTrue\u001b[39;00m)\n\u001b[0;32m     16\u001b[0m \u001b[38;5;66;03m# 選取相鄰的面\u001b[39;00m\n\u001b[0;32m     17\u001b[0m selected_faces \u001b[38;5;241m=\u001b[39m f[adjacent_faces]\n",
      "\u001b[1;31mIndexError\u001b[0m: arrays used as indices must be of integer (or boolean) type"
     ]
    }
   ],
   "source": [
    "selected_vertices = np.where((np.abs(h)>0.1)&(k<-0.1))[0]\n",
    "# print(selected_vertices)\n",
    "# 找出選擇的頂點接觸到的面\n",
    "adjacent_faces = []\n",
    "for vertex_index in selected_vertices:\n",
    "    # 找到和這個頂點相鄰的面的索引\n",
    "    adjacent_faces_vertex = np.where(f == vertex_index)[0]\n",
    "    adjacent_faces.extend(adjacent_faces_vertex)\n",
    "\n",
    "# 去除重複的面索引\n",
    "adjacent_faces = np.unique(adjacent_faces)\n",
    "\n",
    "# 用meshplot庫繪製網格和選擇點的接觸面\n",
    "# mp.plot(v, f, shading={\"face\": True}, c=np.ones_like(f), lighting=True)\n",
    "mp.plot(v, f[adjacent_faces], shading={\"face\": True}, c=\"red\", lighting=True)\n",
    "# 選取相鄰的面\n",
    "selected_faces = f[adjacent_faces]\n",
    "# 將選取的網格保存為 STL 檔案\n",
    "igl.write_triangle_mesh(\"saddle.stl\", v, selected_faces)"
   ]
  }
 ],
 "metadata": {
  "kernelspec": {
   "display_name": "Python 3",
   "language": "python",
   "name": "python3"
  },
  "language_info": {
   "codemirror_mode": {
    "name": "ipython",
    "version": 3
   },
   "file_extension": ".py",
   "mimetype": "text/x-python",
   "name": "python",
   "nbconvert_exporter": "python",
   "pygments_lexer": "ipython3",
   "version": "3.9.11"
  }
 },
 "nbformat": 4,
 "nbformat_minor": 2
}
